{
 "cells": [
  {
   "cell_type": "markdown",
   "metadata": {},
   "source": [
    "#  `numpy` vs `normal` speed test"
   ]
  },
  {
   "cell_type": "code",
   "execution_count": 2,
   "metadata": {},
   "outputs": [],
   "source": [
    "import numpy as np"
   ]
  },
  {
   "cell_type": "code",
   "execution_count": 3,
   "metadata": {},
   "outputs": [
    {
     "data": {
      "text/plain": [
       "array([54, 53, 78, 84, 14, 68, 65,  6, 92, 19,  0, 74, 62, 62, 86, 72,  4,\n",
       "       13, 40, 74])"
      ]
     },
     "execution_count": 3,
     "metadata": {},
     "output_type": "execute_result"
    }
   ],
   "source": [
    "short_arr = np.random.randint(low = 0, high = 100, size = 20)\n",
    "short_arr"
   ]
  },
  {
   "cell_type": "code",
   "execution_count": 4,
   "metadata": {},
   "outputs": [
    {
     "name": "stdout",
     "output_type": "stream",
     "text": [
      "5.7 µs ± 134 ns per loop (mean ± std. dev. of 7 runs, 100000 loops each)\n",
      "5.88 µs ± 143 ns per loop (mean ± std. dev. of 7 runs, 100000 loops each)\n"
     ]
    }
   ],
   "source": [
    "%timeit sum(short_arr)\n",
    "%timeit np.sum(short_arr)"
   ]
  },
  {
   "cell_type": "code",
   "execution_count": 2,
   "metadata": {},
   "outputs": [
    {
     "name": "stdout",
     "output_type": "stream",
     "text": [
      "49988734\n",
      "49988734\n",
      "2.17 ms ± 83.1 µs per loop (mean ± std. dev. of 7 runs, 100 loops each)\n",
      "12.2 µs ± 1.23 µs per loop (mean ± std. dev. of 7 runs, 100000 loops each)\n"
     ]
    }
   ],
   "source": [
    "import numpy as np\n",
    "\n",
    "mass_arr = np.random.randint(low = 0, high = 10000, size = 10000)\n",
    "\n",
    "print(sum(mass_arr))\n",
    "print(np.sum(mass_arr))\n",
    "\n",
    "%timeit sum(mass_arr)\n",
    "%timeit np.sum(mass_arr)"
   ]
  },
  {
   "cell_type": "code",
   "execution_count": null,
   "metadata": {},
   "outputs": [],
   "source": []
  }
 ],
 "metadata": {
  "kernelspec": {
   "display_name": "Python 3",
   "language": "python",
   "name": "python3"
  },
  "language_info": {
   "codemirror_mode": {
    "name": "ipython",
    "version": 3
   },
   "file_extension": ".py",
   "mimetype": "text/x-python",
   "name": "python",
   "nbconvert_exporter": "python",
   "pygments_lexer": "ipython3",
   "version": "3.8.5"
  }
 },
 "nbformat": 4,
 "nbformat_minor": 4
}
